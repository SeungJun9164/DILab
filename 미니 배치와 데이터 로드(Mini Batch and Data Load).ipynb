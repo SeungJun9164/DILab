{
 "cells": [
  {
   "cell_type": "markdown",
   "metadata": {},
   "source": [
    "# 데이터셋 / 데이터로더\n",
    "- 미니배치학습, 데이터셔플, 병렬 처리까지 간단히 수행할 수 있음\n",
    "- dataset을 정의하고 이를 dataloader에 전달"
   ]
  },
  {
   "cell_type": "code",
   "execution_count": 2,
   "metadata": {},
   "outputs": [],
   "source": [
    "import torch\n",
    "import torch.nn as nn\n",
    "import torch.nn.functional as F"
   ]
  },
  {
   "cell_type": "code",
   "execution_count": 3,
   "metadata": {},
   "outputs": [],
   "source": [
    "from torch.utils.data import TensorDataset\n",
    "from torch.utils.data import DataLoader"
   ]
  },
  {
   "cell_type": "code",
   "execution_count": 4,
   "metadata": {},
   "outputs": [],
   "source": [
    "x_train  =  torch.FloatTensor([[73,  80,  75], \n",
    "                               [93,  88,  93], \n",
    "                               [89,  91,  90], \n",
    "                               [96,  98,  100],   \n",
    "                               [73,  66,  70]])  \n",
    "y_train  =  torch.FloatTensor([[152],  [185],  [180],  [196],  [142]])"
   ]
  },
  {
   "cell_type": "code",
   "execution_count": 5,
   "metadata": {},
   "outputs": [],
   "source": [
    "dataset = TensorDataset(x_train, y_train)"
   ]
  },
  {
   "cell_type": "code",
   "execution_count": 6,
   "metadata": {},
   "outputs": [],
   "source": [
    "dataloader = DataLoader(dataset, batch_size = 2, shuffle=True)"
   ]
  },
  {
   "cell_type": "code",
   "execution_count": 7,
   "metadata": {},
   "outputs": [],
   "source": [
    "model = nn.Linear(3, 1)\n",
    "optimizer = torch.optim.SGD(model.parameters(), lr=1e-5)"
   ]
  },
  {
   "cell_type": "code",
   "execution_count": 8,
   "metadata": {},
   "outputs": [
    {
     "name": "stdout",
     "output_type": "stream",
     "text": [
      "Epoch    0/20 Batch 1/3 Cost: 25189.773438\n",
      "Epoch    0/20 Batch 2/3 Cost: 3856.715332\n",
      "Epoch    0/20 Batch 3/3 Cost: 1267.300659\n",
      "Epoch    1/20 Batch 1/3 Cost: 889.034790\n",
      "Epoch    1/20 Batch 2/3 Cost: 95.997681\n",
      "Epoch    1/20 Batch 3/3 Cost: 100.661186\n",
      "Epoch    2/20 Batch 1/3 Cost: 26.037455\n",
      "Epoch    2/20 Batch 2/3 Cost: 16.257072\n",
      "Epoch    2/20 Batch 3/3 Cost: 0.104673\n",
      "Epoch    3/20 Batch 1/3 Cost: 7.453126\n",
      "Epoch    3/20 Batch 2/3 Cost: 10.147333\n",
      "Epoch    3/20 Batch 3/3 Cost: 1.826267\n",
      "Epoch    4/20 Batch 1/3 Cost: 5.800632\n",
      "Epoch    4/20 Batch 2/3 Cost: 7.843927\n",
      "Epoch    4/20 Batch 3/3 Cost: 7.456126\n",
      "Epoch    5/20 Batch 1/3 Cost: 1.752708\n",
      "Epoch    5/20 Batch 2/3 Cost: 7.806292\n",
      "Epoch    5/20 Batch 3/3 Cost: 15.676820\n",
      "Epoch    6/20 Batch 1/3 Cost: 4.855680\n",
      "Epoch    6/20 Batch 2/3 Cost: 7.117806\n",
      "Epoch    6/20 Batch 3/3 Cost: 15.847775\n",
      "Epoch    7/20 Batch 1/3 Cost: 8.823693\n",
      "Epoch    7/20 Batch 2/3 Cost: 8.162871\n",
      "Epoch    7/20 Batch 3/3 Cost: 5.909611\n",
      "Epoch    8/20 Batch 1/3 Cost: 7.282988\n",
      "Epoch    8/20 Batch 2/3 Cost: 7.010688\n",
      "Epoch    8/20 Batch 3/3 Cost: 6.384536\n",
      "Epoch    9/20 Batch 1/3 Cost: 8.410620\n",
      "Epoch    9/20 Batch 2/3 Cost: 6.358431\n",
      "Epoch    9/20 Batch 3/3 Cost: 3.010810\n",
      "Epoch   10/20 Batch 1/3 Cost: 5.835665\n",
      "Epoch   10/20 Batch 2/3 Cost: 9.792393\n",
      "Epoch   10/20 Batch 3/3 Cost: 2.252702\n",
      "Epoch   11/20 Batch 1/3 Cost: 8.829551\n",
      "Epoch   11/20 Batch 2/3 Cost: 6.396383\n",
      "Epoch   11/20 Batch 3/3 Cost: 2.754548\n",
      "Epoch   12/20 Batch 1/3 Cost: 1.845869\n",
      "Epoch   12/20 Batch 2/3 Cost: 7.591071\n",
      "Epoch   12/20 Batch 3/3 Cost: 15.426019\n",
      "Epoch   13/20 Batch 1/3 Cost: 7.643535\n",
      "Epoch   13/20 Batch 2/3 Cost: 6.579192\n",
      "Epoch   13/20 Batch 3/3 Cost: 4.196071\n",
      "Epoch   14/20 Batch 1/3 Cost: 8.173005\n",
      "Epoch   14/20 Batch 2/3 Cost: 4.395897\n",
      "Epoch   14/20 Batch 3/3 Cost: 7.308865\n",
      "Epoch   15/20 Batch 1/3 Cost: 10.670256\n",
      "Epoch   15/20 Batch 2/3 Cost: 5.007473\n",
      "Epoch   15/20 Batch 3/3 Cost: 2.095064\n",
      "Epoch   16/20 Batch 1/3 Cost: 2.091364\n",
      "Epoch   16/20 Batch 2/3 Cost: 17.749008\n",
      "Epoch   16/20 Batch 3/3 Cost: 4.703198\n",
      "Epoch   17/20 Batch 1/3 Cost: 10.226888\n",
      "Epoch   17/20 Batch 2/3 Cost: 1.562879\n",
      "Epoch   17/20 Batch 3/3 Cost: 11.729601\n",
      "Epoch   18/20 Batch 1/3 Cost: 5.530850\n",
      "Epoch   18/20 Batch 2/3 Cost: 9.912023\n",
      "Epoch   18/20 Batch 3/3 Cost: 6.893830\n",
      "Epoch   19/20 Batch 1/3 Cost: 7.714138\n",
      "Epoch   19/20 Batch 2/3 Cost: 8.147403\n",
      "Epoch   19/20 Batch 3/3 Cost: 8.062806\n",
      "Epoch   20/20 Batch 1/3 Cost: 4.776581\n",
      "Epoch   20/20 Batch 2/3 Cost: 15.400712\n",
      "Epoch   20/20 Batch 3/3 Cost: 2.428406\n"
     ]
    }
   ],
   "source": [
    "nb_epochs = 20\n",
    "for epoch in range(nb_epochs + 1):\n",
    "  for batch_idx, samples in enumerate(dataloader):\n",
    "    # print(batch_idx)\n",
    "    # print(samples)\n",
    "    x_train, y_train = samples\n",
    "    # H(x) 계산\n",
    "    prediction = model(x_train)\n",
    "\n",
    "    # cost 계산\n",
    "    cost = F.mse_loss(prediction, y_train)\n",
    "\n",
    "    # cost로 H(x) 계산\n",
    "    optimizer.zero_grad()\n",
    "    cost.backward()\n",
    "    optimizer.step()\n",
    "\n",
    "    print('Epoch {:4d}/{} Batch {}/{} Cost: {:.6f}'.format(\n",
    "        epoch, nb_epochs, batch_idx+1, len(dataloader),\n",
    "        cost.item()\n",
    "        ))"
   ]
  },
  {
   "cell_type": "code",
   "execution_count": 9,
   "metadata": {},
   "outputs": [
    {
     "name": "stdout",
     "output_type": "stream",
     "text": [
      "훈련 후 입력이 73, 80, 75일 때의 예측값 : tensor([[153.9426]], grad_fn=<AddmmBackward>)\n"
     ]
    }
   ],
   "source": [
    "new_var =  torch.FloatTensor([[73, 80, 75]]) \n",
    "# 입력한 값 [73, 80, 75]에 대해서 예측값 y를 리턴받아서 pred_y에 저장\n",
    "pred_y = model(new_var) \n",
    "print(\"훈련 후 입력이 73, 80, 75일 때의 예측값 :\", pred_y) "
   ]
  },
  {
   "cell_type": "code",
   "execution_count": null,
   "metadata": {},
   "outputs": [],
   "source": []
  }
 ],
 "metadata": {
  "kernelspec": {
   "display_name": "Python 3",
   "language": "python",
   "name": "python3"
  },
  "language_info": {
   "codemirror_mode": {
    "name": "ipython",
    "version": 3
   },
   "file_extension": ".py",
   "mimetype": "text/x-python",
   "name": "python",
   "nbconvert_exporter": "python",
   "pygments_lexer": "ipython3",
   "version": "3.8.3"
  }
 },
 "nbformat": 4,
 "nbformat_minor": 4
}
