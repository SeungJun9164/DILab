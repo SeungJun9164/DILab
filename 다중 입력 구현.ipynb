{
 "cells": [
  {
   "cell_type": "code",
   "execution_count": 1,
   "metadata": {},
   "outputs": [],
   "source": [
    "import numpy as np\n",
    "from tensorflow.keras.models import Sequential\n",
    "from tensorflow.keras.layers import Dense\n",
    "from tensorflow.keras import optimizers"
   ]
  },
  {
   "cell_type": "code",
   "execution_count": 2,
   "metadata": {},
   "outputs": [],
   "source": [
    "X=np.array([[70,85,11],[71,89,18],[50,80,20],[99,20,10],[50,10,10]])\n",
    "y=np.array([73,82,72,57,34])"
   ]
  },
  {
   "cell_type": "code",
   "execution_count": 3,
   "metadata": {},
   "outputs": [],
   "source": [
    "model = Sequential()\n",
    "\n",
    "model.add(Dense(1, input_dim=3, activation='linear'))\n",
    "sgd = optimizers.SGD(lr=0.00001)\n",
    "model.compile(optimizer=sgd, loss='mse', metrics=['mse'])"
   ]
  },
  {
   "cell_type": "code",
   "execution_count": 5,
   "metadata": {},
   "outputs": [
    {
     "name": "stdout",
     "output_type": "stream",
     "text": [
      "Epoch 1/10\n",
      "5/5 [==============================] - 0s 600us/step - loss: 0.0198 - mse: 0.0198  \n",
      "Epoch 2/10\n",
      "5/5 [==============================] - 0s 200us/step - loss: 0.0198 - mse: 0.0198  \n",
      "Epoch 3/10\n",
      "5/5 [==============================] - 0s 200us/step - loss: 0.0198 - mse: 0.0198  \n",
      "Epoch 4/10\n",
      "5/5 [==============================] - 0s 400us/step - loss: 0.0198 - mse: 0.0198  \n",
      "Epoch 5/10\n",
      "5/5 [==============================] - 0s 400us/step - loss: 0.0198 - mse: 0.0198  \n",
      "Epoch 6/10\n",
      "5/5 [==============================] - 0s 400us/step - loss: 0.0197 - mse: 0.0197  \n",
      "Epoch 7/10\n",
      "5/5 [==============================] - 0s 400us/step - loss: 0.0197 - mse: 0.0197  \n",
      "Epoch 8/10\n",
      "5/5 [==============================] - 0s 400us/step - loss: 0.0197 - mse: 0.0197  \n",
      "Epoch 9/10\n",
      "5/5 [==============================] - 0s 400us/step - loss: 0.0197 - mse: 0.0197  \n",
      "Epoch 10/10\n",
      "5/5 [==============================] - 0s 400us/step - loss: 0.0197 - mse: 0.0197  \n"
     ]
    },
    {
     "data": {
      "text/plain": [
       "<tensorflow.python.keras.callbacks.History at 0x2046316e6d0>"
      ]
     },
     "execution_count": 5,
     "metadata": {},
     "output_type": "execute_result"
    }
   ],
   "source": [
    "model.fit(X, y, batch_size=1, epochs=2000, verbose=0, shuffle=False)\n",
    "model.fit(X, y, batch_size=1, epochs=10, shuffle=False)"
   ]
  },
  {
   "cell_type": "code",
   "execution_count": 6,
   "metadata": {},
   "outputs": [
    {
     "data": {
      "text/plain": [
       "array([[73.02298 ],\n",
       "       [81.971924],\n",
       "       [72.01236 ],\n",
       "       [57.141262],\n",
       "       [33.73845 ]], dtype=float32)"
      ]
     },
     "execution_count": 6,
     "metadata": {},
     "output_type": "execute_result"
    }
   ],
   "source": [
    "model.predict(X)"
   ]
  },
  {
   "cell_type": "code",
   "execution_count": 7,
   "metadata": {},
   "outputs": [
    {
     "data": {
      "text/plain": [
       "array([[57.961628],\n",
       "       [55.90492 ]], dtype=float32)"
      ]
     },
     "execution_count": 7,
     "metadata": {},
     "output_type": "execute_result"
    }
   ],
   "source": [
    "model.predict([[20, 99, 10], [40, 50, 20]])"
   ]
  },
  {
   "cell_type": "code",
   "execution_count": 8,
   "metadata": {},
   "outputs": [],
   "source": [
    "X=np.array([[0, 0], [0, 1], [1, 0], [1, 1]])\n",
    "y=np.array([0, 1, 1, 1])"
   ]
  },
  {
   "cell_type": "code",
   "execution_count": 9,
   "metadata": {},
   "outputs": [],
   "source": [
    "model = Sequential()\n",
    "model.add(Dense(1, input_dim=2, activation='sigmoid'))\n",
    "model.compile(optimizer='sgd', loss='binary_crossentropy', metrics=['binary_accuracy'])"
   ]
  },
  {
   "cell_type": "code",
   "execution_count": 10,
   "metadata": {},
   "outputs": [
    {
     "name": "stdout",
     "output_type": "stream",
     "text": [
      "Epoch 1/10\n",
      "4/4 [==============================] - 0s 500us/step - loss: 0.2169 - binary_accuracy: 1.0000\n",
      "Epoch 2/10\n",
      "4/4 [==============================] - 0s 500us/step - loss: 0.2167 - binary_accuracy: 1.0000\n",
      "Epoch 3/10\n",
      "4/4 [==============================] - 0s 250us/step - loss: 0.2166 - binary_accuracy: 1.0000\n",
      "Epoch 4/10\n",
      "4/4 [==============================] - 0s 250us/step - loss: 0.2164 - binary_accuracy: 1.0000\n",
      "Epoch 5/10\n",
      "4/4 [==============================] - 0s 500us/step - loss: 0.2162 - binary_accuracy: 1.0000\n",
      "Epoch 6/10\n",
      "4/4 [==============================] - 0s 500us/step - loss: 0.2161 - binary_accuracy: 1.0000\n",
      "Epoch 7/10\n",
      "4/4 [==============================] - 0s 250us/step - loss: 0.2159 - binary_accuracy: 1.0000\n",
      "Epoch 8/10\n",
      "4/4 [==============================] - 0s 250us/step - loss: 0.2158 - binary_accuracy: 1.0000\n",
      "Epoch 9/10\n",
      "4/4 [==============================] - 0s 500us/step - loss: 0.2156 - binary_accuracy: 1.0000\n",
      "Epoch 10/10\n",
      "4/4 [==============================] - 0s 250us/step - loss: 0.2154 - binary_accuracy: 1.0000\n"
     ]
    },
    {
     "data": {
      "text/plain": [
       "<tensorflow.python.keras.callbacks.History at 0x2046339e6a0>"
      ]
     },
     "execution_count": 10,
     "metadata": {},
     "output_type": "execute_result"
    }
   ],
   "source": [
    "model.fit(X, y, shuffle=False, batch_size=1, epochs=800, verbose=0)\n",
    "model.fit(X, y, shuffle=False, batch_size=1, epochs=10)"
   ]
  },
  {
   "cell_type": "code",
   "execution_count": 11,
   "metadata": {},
   "outputs": [
    {
     "data": {
      "text/plain": [
       "array([[0.4139397 ],\n",
       "       [0.8590597 ],\n",
       "       [0.85665476],\n",
       "       [0.98097855]], dtype=float32)"
      ]
     },
     "execution_count": 11,
     "metadata": {},
     "output_type": "execute_result"
    }
   ],
   "source": [
    "model.predict(X)"
   ]
  },
  {
   "cell_type": "code",
   "execution_count": null,
   "metadata": {},
   "outputs": [],
   "source": []
  }
 ],
 "metadata": {
  "kernelspec": {
   "display_name": "Python 3",
   "language": "python",
   "name": "python3"
  },
  "language_info": {
   "codemirror_mode": {
    "name": "ipython",
    "version": 3
   },
   "file_extension": ".py",
   "mimetype": "text/x-python",
   "name": "python",
   "nbconvert_exporter": "python",
   "pygments_lexer": "ipython3",
   "version": "3.8.3"
  }
 },
 "nbformat": 4,
 "nbformat_minor": 4
}
